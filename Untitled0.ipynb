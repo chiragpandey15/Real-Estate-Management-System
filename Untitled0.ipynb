{
  "nbformat": 4,
  "nbformat_minor": 0,
  "metadata": {
    "colab": {
      "provenance": [],
      "mount_file_id": "17fLDaPf1NvSQLghEmQmFAYkbVr7Njmyv",
      "authorship_tag": "ABX9TyO0xIXOhp8egjpHeUuxE4tL",
      "include_colab_link": true
    },
    "kernelspec": {
      "name": "python3",
      "display_name": "Python 3"
    },
    "language_info": {
      "name": "python"
    }
  },
  "cells": [
    {
      "cell_type": "markdown",
      "metadata": {
        "id": "view-in-github",
        "colab_type": "text"
      },
      "source": [
        "<a href=\"https://colab.research.google.com/github/chiragpandey15/Real-Estate-Management-System/blob/master/Untitled0.ipynb\" target=\"_parent\"><img src=\"https://colab.research.google.com/assets/colab-badge.svg\" alt=\"Open In Colab\"/></a>"
      ]
    },
    {
      "cell_type": "code",
      "source": [
        "# !pip install split-folders\n",
        "import splitfolders\n",
        "splitfolders.ratio(\"/content/drive/MyDrive/Colab Notebooks/Data/images\", output=\"/content/drive/MyDrive/Colab Notebooks/Data/Split\",\n",
        "    seed=1337, ratio=(.7, .15, .15), group_prefix=None, move=False)"
      ],
      "metadata": {
        "id": "e7lmQS6sQoF2"
      },
      "execution_count": null,
      "outputs": []
    },
    {
      "cell_type": "code",
      "source": [
        "import cv2\n",
        "import random\n",
        "\n",
        "def fill(img, h, w):\n",
        "    img = cv2.resize(img, (h, w), cv2.INTER_CUBIC)\n",
        "    return img\n",
        "\n",
        "def zoom(img, value):\n",
        "    if value > 1 or value < 0:\n",
        "        print('Value for zoom should be less than 1 and greater than 0')\n",
        "        return img\n",
        "    value = random.uniform(value, 1)\n",
        "    h, w = img.shape[:2]\n",
        "    h_taken = int(value*h)\n",
        "    w_taken = int(value*w)\n",
        "    h_start = random.randint(0, h-h_taken)\n",
        "    w_start = random.randint(0, w-w_taken)\n",
        "    img = img[h_start:h_start+h_taken, w_start:w_start+w_taken, :]\n",
        "    img = fill(img, h, w)\n",
        "    return img\n",
        "\n",
        "def rotation(img, angle):\n",
        "    angle = int(random.uniform(-angle, angle))\n",
        "    h, w = img.shape[:2]\n",
        "    M = cv2.getRotationMatrix2D((int(w/2), int(h/2)), angle, 1)\n",
        "    img = cv2.warpAffine(img, M, (w, h))\n",
        "    return img\n",
        "\n",
        "def horizontal_flip(img, flag):\n",
        "    if flag:\n",
        "        return cv2.flip(img, 1)\n",
        "    else:\n",
        "        return img\n",
        "\n",
        "def vertical_flip(img, flag):\n",
        "    if flag:\n",
        "        return cv2.flip(img, 0)\n",
        "    else:\n",
        "        return img"
      ],
      "metadata": {
        "id": "vOPJtQt7-u2i"
      },
      "execution_count": null,
      "outputs": []
    },
    {
      "cell_type": "code",
      "execution_count": null,
      "metadata": {
        "colab": {
          "base_uri": "https://localhost:8080/"
        },
        "id": "cjteiDR1wRfG",
        "outputId": "0e2578a5-8a94-4f63-d5ed-47db2070a235"
      },
      "outputs": [
        {
          "output_type": "stream",
          "name": "stderr",
          "text": [
            "100%|██████████| 30/30 [00:05<00:00,  5.96it/s]\n",
            "100%|██████████| 40/40 [00:06<00:00,  5.92it/s]\n",
            "100%|██████████| 42/42 [00:07<00:00,  5.90it/s]\n",
            "100%|██████████| 42/42 [00:07<00:00,  5.91it/s]\n",
            "100%|██████████| 41/41 [00:06<00:00,  6.12it/s]\n",
            "100%|██████████| 42/42 [00:06<00:00,  6.14it/s]\n",
            "100%|██████████| 42/42 [00:06<00:00,  6.01it/s]\n",
            "100%|██████████| 42/42 [00:07<00:00,  5.47it/s]\n",
            "100%|██████████| 41/41 [00:06<00:00,  5.96it/s]\n",
            "100%|██████████| 42/42 [00:06<00:00,  6.26it/s]\n",
            "100%|██████████| 42/42 [00:07<00:00,  5.88it/s]\n",
            "100%|██████████| 40/40 [00:06<00:00,  6.33it/s]\n",
            "100%|██████████| 42/42 [00:06<00:00,  6.40it/s]\n",
            "100%|██████████| 42/42 [00:06<00:00,  6.25it/s]\n",
            "100%|██████████| 42/42 [00:06<00:00,  6.36it/s]\n",
            "100%|██████████| 42/42 [00:06<00:00,  6.10it/s]\n",
            "100%|██████████| 42/42 [00:07<00:00,  6.00it/s]\n",
            "100%|██████████| 64/64 [00:10<00:00,  6.19it/s]\n",
            "100%|██████████| 42/42 [00:06<00:00,  6.26it/s]\n",
            "100%|██████████| 42/42 [00:06<00:00,  6.21it/s]\n"
          ]
        },
        {
          "output_type": "stream",
          "name": "stdout",
          "text": [
            "(844, 224, 224, 3)\n",
            "(844,)\n"
          ]
        },
        {
          "output_type": "stream",
          "name": "stderr",
          "text": [
            "100%|██████████| 6/6 [00:00<00:00,  6.28it/s]\n",
            "100%|██████████| 8/8 [00:01<00:00,  6.20it/s]\n",
            "100%|██████████| 9/9 [00:01<00:00,  6.47it/s]\n",
            "100%|██████████| 9/9 [00:01<00:00,  5.81it/s]\n",
            "100%|██████████| 8/8 [00:01<00:00,  5.95it/s]\n",
            "100%|██████████| 9/9 [00:01<00:00,  6.19it/s]\n",
            "100%|██████████| 9/9 [00:01<00:00,  6.23it/s]\n",
            "100%|██████████| 9/9 [00:01<00:00,  6.32it/s]\n",
            "100%|██████████| 8/8 [00:01<00:00,  6.29it/s]\n",
            "100%|██████████| 9/9 [00:01<00:00,  6.01it/s]\n",
            "100%|██████████| 9/9 [00:01<00:00,  6.70it/s]\n",
            "100%|██████████| 8/8 [00:01<00:00,  6.30it/s]\n",
            "100%|██████████| 9/9 [00:01<00:00,  6.27it/s]\n",
            "100%|██████████| 9/9 [00:01<00:00,  6.66it/s]\n",
            "100%|██████████| 9/9 [00:01<00:00,  6.48it/s]\n",
            "100%|██████████| 9/9 [00:01<00:00,  6.36it/s]\n",
            "100%|██████████| 9/9 [00:01<00:00,  6.50it/s]\n",
            "100%|██████████| 13/13 [00:02<00:00,  6.00it/s]\n",
            "100%|██████████| 9/9 [00:01<00:00,  6.48it/s]\n",
            "100%|██████████| 9/9 [00:01<00:00,  5.90it/s]\n"
          ]
        },
        {
          "output_type": "stream",
          "name": "stdout",
          "text": [
            "(844, 224, 224, 3)\n",
            "(844,)\n"
          ]
        }
      ],
      "source": [
        "import os\n",
        "from tqdm import tqdm\n",
        "\n",
        "import numpy as np\n",
        "\n",
        "categories = os.listdir('/content/drive/MyDrive/Colab Notebooks/Data/Split/train/')\n",
        "\n",
        "imgsize = 224\n",
        "X = []\n",
        "Y = []     \n",
        "n_classes = 20\n",
        "lst = [1, 2, 3, 4, 5]\n",
        "for index, folder in enumerate(categories[:n_classes]):\n",
        "    path = os.path.join('/content/drive/MyDrive/Colab Notebooks/Data/Split/train/',folder)\n",
        "    for img in tqdm(os.listdir(path)):\n",
        "        Ipath = os.path.join(path,img)\n",
        "        img = cv2.imread(Ipath,cv2.IMREAD_COLOR)\n",
        "        img = cv2.resize(img,(imgsize,imgsize))\n",
        "\n",
        "        p = random.choice(lst)\n",
        "\n",
        "        if p==1:\n",
        "          X.append(np.array(img))\n",
        "          Y.append(index)\n",
        "\n",
        "        elif p==2:\n",
        "          img1 = zoom(img,random.random())\n",
        "          X.append(np.array(img1))\n",
        "          Y.append(index)\n",
        "\n",
        "\n",
        "        elif p==3:\n",
        "          img1 = rotation(img,random.random()*100)\n",
        "          X.append(np.array(img1))\n",
        "          Y.append(index)\n",
        "\n",
        "\n",
        "        elif p==4:\n",
        "          ran = random.random()\n",
        "          if ran<0.5:\n",
        "            img1 = horizontal_flip(img,True)\n",
        "          else:\n",
        "            img1 = horizontal_flip(img,False)\n",
        "          X.append(np.array(img1))\n",
        "          Y.append(index)\n",
        "\n",
        "        else:\n",
        "          ran = random.random()\n",
        "          if ran<0.5:\n",
        "            img1 = vertical_flip(img,True)\n",
        "          else:\n",
        "            img1 = vertical_flip(img,False)\n",
        "          X.append(np.array(img1))\n",
        "          Y.append(index)\n",
        "\n",
        "X = np.array(X).astype('float16')\n",
        "Y = np.array(Y)\n",
        "print(X.shape)\n",
        "print(Y.shape)\n",
        "\n",
        "\n",
        "categories = os.listdir('/content/drive/MyDrive/Colab Notebooks/Data/Split/val/')\n",
        "\n",
        "imgsize = 224\n",
        "valX = []\n",
        "valY = []\n",
        "n_classes = 20\n",
        "\n",
        "for index, folder in enumerate(categories[:n_classes]):\n",
        "    path = os.path.join('/content/drive/MyDrive/Colab Notebooks/Data/Split/val/',folder)\n",
        "    for img in tqdm(os.listdir(path)):\n",
        "        Ipath = os.path.join(path,img)\n",
        "        img = cv2.imread(Ipath,cv2.IMREAD_COLOR)\n",
        "        img = cv2.resize(img,(imgsize,imgsize))\n",
        "        valX.append(np.array(img))\n",
        "        valY.append(index)\n",
        "\n",
        "valX = np.array(X).astype('float16')\n",
        "valY = np.array(Y)\n",
        "print(valX.shape)\n",
        "print(valY.shape)"
      ]
    },
    {
      "cell_type": "code",
      "source": [
        "from tensorflow import keras\n",
        "\n",
        "augs_gen = keras.preprocessing.image.ImageDataGenerator(preprocessing_function=keras.applications.efficientnet.preprocess_input,featurewise_center=False,  \n",
        "        samplewise_center=False, \n",
        "        featurewise_std_normalization=False,  \n",
        "        samplewise_std_normalization=False,  \n",
        "        zca_whitening=False,  \n",
        "        rotation_range=10,  \n",
        "        zoom_range = 0.1, \n",
        "        width_shift_range=0.2,  \n",
        "        height_shift_range=0.2, \n",
        "        horizontal_flip=True,  \n",
        "        vertical_flip=False)\n",
        "\n",
        "augs_gen.fit(X)\n",
        "\n",
        "base_model = keras.applications.EfficientNetB0(include_top=False,\n",
        "                  input_shape = (imgsize,imgsize,3),\n",
        "                  weights = 'imagenet')\n",
        "\n",
        "base_model.trainable = False\n",
        "\n",
        "model = keras.models.Sequential([base_model])\n",
        "model.add(keras.layers.GlobalAveragePooling2D())\n",
        "model.add(keras.layers.BatchNormalization())\n",
        "model.add(keras.layers.Dropout(0.2))\n",
        "model.add(keras.layers.Dense(100,activation='relu'))\n",
        "model.add(keras.layers.Dense(n_classes,activation='softmax'))\n",
        "model.summary()\n",
        "\n",
        "model.compile(\n",
        "    loss='categorical_crossentropy',\n",
        "    optimizer='adam',\n",
        "    metrics=['accuracy']\n",
        ")"
      ],
      "metadata": {
        "colab": {
          "base_uri": "https://localhost:8080/"
        },
        "id": "ByuUVmyLxS0j",
        "outputId": "a8fadd9b-a472-4223-8104-3853a9dc4e5d"
      },
      "execution_count": null,
      "outputs": [
        {
          "output_type": "stream",
          "name": "stdout",
          "text": [
            "Downloading data from https://storage.googleapis.com/keras-applications/efficientnetb0_notop.h5\n",
            "16705208/16705208 [==============================] - 0s 0us/step\n",
            "Model: \"sequential\"\n",
            "_________________________________________________________________\n",
            " Layer (type)                Output Shape              Param #   \n",
            "=================================================================\n",
            " efficientnetb0 (Functional)  (None, 7, 7, 1280)       4049571   \n",
            "                                                                 \n",
            " global_average_pooling2d (G  (None, 1280)             0         \n",
            " lobalAveragePooling2D)                                          \n",
            "                                                                 \n",
            " batch_normalization (BatchN  (None, 1280)             5120      \n",
            " ormalization)                                                   \n",
            "                                                                 \n",
            " dropout (Dropout)           (None, 1280)              0         \n",
            "                                                                 \n",
            " dense (Dense)               (None, 100)               128100    \n",
            "                                                                 \n",
            " dense_1 (Dense)             (None, 20)                2020      \n",
            "                                                                 \n",
            "=================================================================\n",
            "Total params: 4,184,811\n",
            "Trainable params: 132,680\n",
            "Non-trainable params: 4,052,131\n",
            "_________________________________________________________________\n"
          ]
        }
      ]
    },
    {
      "cell_type": "code",
      "source": [
        "ES = keras.callbacks.EarlyStopping(monitor='val_loss', patience = 3, restore_best_weights=True)"
      ],
      "metadata": {
        "id": "qxP-4c-eya5q"
      },
      "execution_count": null,
      "outputs": []
    },
    {
      "cell_type": "code",
      "source": [
        "history = model.fit(augs_gen.flow(X,keras.utils.to_categorical(Y, n_classes)), epochs = 50, verbose = 1, batch_size = 5,\n",
        "              validation_data  = (keras.applications.efficientnet.preprocess_input(valX),keras.utils.to_categorical(valY, n_classes)),\n",
        "             callbacks = [ES])"
      ],
      "metadata": {
        "colab": {
          "base_uri": "https://localhost:8080/"
        },
        "id": "TE0-hMaMyd9t",
        "outputId": "4c0b296c-dd68-4793-97ac-839acfe0ba0b"
      },
      "execution_count": null,
      "outputs": [
        {
          "output_type": "stream",
          "name": "stdout",
          "text": [
            "Epoch 1/50\n",
            "27/27 [==============================] - 114s 4s/step - loss: 2.2723 - accuracy: 0.3602 - val_loss: 1.7998 - val_accuracy: 0.7476\n",
            "Epoch 2/50\n",
            "27/27 [==============================] - 111s 4s/step - loss: 0.9203 - accuracy: 0.7346 - val_loss: 1.1565 - val_accuracy: 0.8839\n",
            "Epoch 3/50\n",
            "27/27 [==============================] - 109s 4s/step - loss: 0.5564 - accuracy: 0.8436 - val_loss: 0.8150 - val_accuracy: 0.9419\n",
            "Epoch 4/50\n",
            "27/27 [==============================] - 108s 4s/step - loss: 0.4201 - accuracy: 0.8697 - val_loss: 0.5662 - val_accuracy: 0.9633\n",
            "Epoch 5/50\n",
            "27/27 [==============================] - 106s 4s/step - loss: 0.3190 - accuracy: 0.9111 - val_loss: 0.4011 - val_accuracy: 0.9739\n",
            "Epoch 6/50\n",
            "27/27 [==============================] - 106s 4s/step - loss: 0.2585 - accuracy: 0.9218 - val_loss: 0.2844 - val_accuracy: 0.9810\n",
            "Epoch 7/50\n",
            "27/27 [==============================] - 110s 4s/step - loss: 0.2327 - accuracy: 0.9277 - val_loss: 0.2016 - val_accuracy: 0.9799\n",
            "Epoch 8/50\n",
            "27/27 [==============================] - 111s 4s/step - loss: 0.2020 - accuracy: 0.9502 - val_loss: 0.1530 - val_accuracy: 0.9846\n",
            "Epoch 9/50\n",
            "27/27 [==============================] - 111s 4s/step - loss: 0.1620 - accuracy: 0.9479 - val_loss: 0.1098 - val_accuracy: 0.9822\n",
            "Epoch 10/50\n",
            "27/27 [==============================] - 109s 4s/step - loss: 0.1543 - accuracy: 0.9633 - val_loss: 0.0849 - val_accuracy: 0.9882\n",
            "Epoch 11/50\n",
            "27/27 [==============================] - 110s 4s/step - loss: 0.1238 - accuracy: 0.9680 - val_loss: 0.0666 - val_accuracy: 0.9870\n",
            "Epoch 12/50\n",
            "27/27 [==============================] - 108s 4s/step - loss: 0.1167 - accuracy: 0.9716 - val_loss: 0.0534 - val_accuracy: 0.9917\n",
            "Epoch 13/50\n",
            "27/27 [==============================] - 111s 4s/step - loss: 0.1202 - accuracy: 0.9704 - val_loss: 0.0444 - val_accuracy: 0.9905\n",
            "Epoch 14/50\n",
            "27/27 [==============================] - 110s 4s/step - loss: 0.0668 - accuracy: 0.9834 - val_loss: 0.0380 - val_accuracy: 0.9917\n",
            "Epoch 15/50\n",
            "27/27 [==============================] - 107s 4s/step - loss: 0.0797 - accuracy: 0.9799 - val_loss: 0.0333 - val_accuracy: 0.9917\n",
            "Epoch 16/50\n",
            "27/27 [==============================] - 109s 4s/step - loss: 0.0652 - accuracy: 0.9858 - val_loss: 0.0293 - val_accuracy: 0.9905\n",
            "Epoch 17/50\n",
            "27/27 [==============================] - 107s 4s/step - loss: 0.0669 - accuracy: 0.9846 - val_loss: 0.0238 - val_accuracy: 0.9905\n",
            "Epoch 18/50\n",
            "27/27 [==============================] - 110s 4s/step - loss: 0.0857 - accuracy: 0.9751 - val_loss: 0.0234 - val_accuracy: 0.9929\n",
            "Epoch 19/50\n",
            "27/27 [==============================] - 108s 4s/step - loss: 0.0702 - accuracy: 0.9810 - val_loss: 0.0198 - val_accuracy: 0.9929\n",
            "Epoch 20/50\n",
            "27/27 [==============================] - 111s 4s/step - loss: 0.0545 - accuracy: 0.9882 - val_loss: 0.0178 - val_accuracy: 0.9953\n",
            "Epoch 21/50\n",
            "27/27 [==============================] - 109s 4s/step - loss: 0.0773 - accuracy: 0.9810 - val_loss: 0.0109 - val_accuracy: 0.9988\n",
            "Epoch 22/50\n",
            "27/27 [==============================] - 106s 4s/step - loss: 0.0518 - accuracy: 0.9858 - val_loss: 0.0126 - val_accuracy: 0.9988\n",
            "Epoch 23/50\n",
            "27/27 [==============================] - 108s 4s/step - loss: 0.0620 - accuracy: 0.9810 - val_loss: 0.0127 - val_accuracy: 0.9988\n",
            "Epoch 24/50\n",
            "27/27 [==============================] - 106s 4s/step - loss: 0.0400 - accuracy: 0.9917 - val_loss: 0.0089 - val_accuracy: 0.9988\n",
            "Epoch 25/50\n",
            "27/27 [==============================] - 107s 4s/step - loss: 0.0797 - accuracy: 0.9775 - val_loss: 0.0155 - val_accuracy: 0.9964\n",
            "Epoch 26/50\n",
            "27/27 [==============================] - 108s 4s/step - loss: 0.0791 - accuracy: 0.9751 - val_loss: 0.0139 - val_accuracy: 0.9976\n",
            "Epoch 27/50\n",
            "27/27 [==============================] - 108s 4s/step - loss: 0.0568 - accuracy: 0.9870 - val_loss: 0.0126 - val_accuracy: 0.9988\n"
          ]
        }
      ]
    },
    {
      "cell_type": "code",
      "source": [
        "import matplotlib.pyplot as plt\n",
        "\n",
        "plt.figure(figsize = (10,5))\n",
        "plt.subplot(1,2,1)\n",
        "plt.plot(history.history['accuracy'],     label = 'Train')\n",
        "plt.plot(history.history['val_accuracy'], label = 'Validation')\n",
        "plt.title('Accuracy')\n",
        "plt.legend(loc = 'upper left')\n",
        "\n",
        "plt.subplot(1,2,2)\n",
        "plt.plot(history.history['loss']    ,label = 'Train')\n",
        "plt.plot(history.history['val_loss'],label = 'Validation')\n",
        "plt.title('Loss')\n",
        "plt.legend(loc = 'upper left')\n",
        "plt.show()\n",
        "\n",
        "max_val_acc = 100*np.max(history.history['val_accuracy'])\n",
        "print(\"Best Validation Accuracy: {}%\".format(max_val_acc))"
      ],
      "metadata": {
        "colab": {
          "base_uri": "https://localhost:8080/",
          "height": 354
        },
        "id": "v9Nxn95D0W8B",
        "outputId": "e4aa794e-07f5-41a1-86c4-5ae64f33246d"
      },
      "execution_count": null,
      "outputs": [
        {
          "output_type": "display_data",
          "data": {
            "text/plain": [
              "<Figure size 720x360 with 2 Axes>"
            ],
            "image/png": "[encoded data removed]"
          },
          "metadata": {
            "needs_background": "light"
          }
        },
        {
          "output_type": "stream",
          "name": "stdout",
          "text": [
            "Best Validation Accuracy: 99.88151788711548%\n"
          ]
        }
      ]
    },
    {
      "cell_type": "code",
      "source": [
        "from sklearn.metrics import accuracy_score\n",
        "\n",
        "categories = os.listdir('/content/drive/MyDrive/Colab Notebooks/Data/Split/test/')\n",
        "\n",
        "imgsize = 224\n",
        "testX = []\n",
        "testY = []\n",
        "n_classes = 20\n",
        "\n",
        "for index, folder in enumerate(categories[:n_classes]):\n",
        "    path = os.path.join('/content/drive/MyDrive/Colab Notebooks/Data/Split/test/',folder)\n",
        "    for img in tqdm(os.listdir(path)):\n",
        "        Ipath = os.path.join(path,img)\n",
        "        img = cv2.imread(Ipath,cv2.IMREAD_COLOR)\n",
        "        img = cv2.resize(img,(imgsize,imgsize))\n",
        "        testX.append(np.array(img))\n",
        "        testY.append(index)\n",
        "\n",
        "testX = np.array(X).astype('float16')\n",
        "testY = np.array(Y)\n",
        "print(testX.shape)\n",
        "print(testY.shape)\n",
        "\n",
        "pred = np.argmax(model.predict(keras.applications.efficientnet.preprocess_input(testX)), axis = -1)\n",
        "y = np.argmax(keras.utils.to_categorical(testY, n_classes), axis = -1)\n",
        "acc = accuracy_score(pred, y)\n",
        "print(\"Accuracy: \",acc)"
      ],
      "metadata": {
        "colab": {
          "base_uri": "https://localhost:8080/"
        },
        "id": "5EvPZqaleB6c",
        "outputId": "229d8183-a8d3-449f-c903-4c0ac5d58cce"
      },
      "execution_count": null,
      "outputs": [
        {
          "output_type": "stream",
          "name": "stderr",
          "text": [
            "100%|██████████| 8/8 [00:01<00:00,  4.43it/s]\n",
            "100%|██████████| 10/10 [00:02<00:00,  3.47it/s]\n",
            "100%|██████████| 9/9 [00:01<00:00,  4.97it/s]\n",
            "100%|██████████| 9/9 [00:01<00:00,  5.50it/s]\n",
            "100%|██████████| 10/10 [00:02<00:00,  4.95it/s]\n",
            "100%|██████████| 9/9 [00:01<00:00,  5.70it/s]\n",
            "100%|██████████| 9/9 [00:01<00:00,  5.45it/s]\n",
            "100%|██████████| 9/9 [00:02<00:00,  3.87it/s]\n",
            "100%|██████████| 10/10 [00:02<00:00,  4.82it/s]\n",
            "100%|██████████| 9/9 [00:01<00:00,  5.64it/s]\n",
            "100%|██████████| 9/9 [00:02<00:00,  4.41it/s]\n",
            "100%|██████████| 10/10 [00:01<00:00,  5.29it/s]\n",
            "100%|██████████| 9/9 [00:01<00:00,  4.93it/s]\n",
            "100%|██████████| 9/9 [00:01<00:00,  5.32it/s]\n",
            "100%|██████████| 9/9 [00:01<00:00,  4.65it/s]\n",
            "100%|██████████| 9/9 [00:01<00:00,  4.68it/s]\n",
            "100%|██████████| 10/10 [00:02<00:00,  4.50it/s]\n",
            "100%|██████████| 15/15 [00:02<00:00,  5.89it/s]\n",
            "100%|██████████| 9/9 [00:01<00:00,  4.64it/s]\n",
            "100%|██████████| 9/9 [00:01<00:00,  5.13it/s]\n"
          ]
        },
        {
          "output_type": "stream",
          "name": "stdout",
          "text": [
            "(844, 224, 224, 3)\n",
            "(844,)\n",
            "27/27 [==============================] - 59s 2s/step\n",
            "Accuracy:  0.9964454976303317\n"
          ]
        }
      ]
    },
    {
      "cell_type": "code",
      "source": [
        "from sklearn.metrics import precision_score\n",
        "from sklearn.metrics import recall_score\n",
        "from sklearn.metrics import f1_score\n",
        "\n",
        "precision = precision_score(y, pred, average='micro')\n",
        "recall = recall_score(y, pred, average='micro')\n",
        "f1 = f1_score(y, pred, average='micro')\n",
        "print(\"Precision: \",precision)\n",
        "print(\"Recall: \",recall)\n",
        "print(\"F1 Score\", f1)"
      ],
      "metadata": {
        "colab": {
          "base_uri": "https://localhost:8080/"
        },
        "id": "mMpixXjHhpOU",
        "outputId": "ed1319a3-3ac6-4760-d3b6-c328fab61083"
      },
      "execution_count": null,
      "outputs": [
        {
          "output_type": "stream",
          "name": "stdout",
          "text": [
            "Precision:  0.9964454976303317\n",
            "Recall:  0.9964454976303317\n",
            "F1 Score 0.9964454976303317\n"
          ]
        }
      ]
    },
    {
      "cell_type": "code",
      "source": [
        "base_model_VGG = keras.applications.VGG16(include_top=False,\n",
        "                  input_shape = (imgsize,imgsize,3),\n",
        "                  weights = 'imagenet')\n",
        "\n",
        "base_model_VGG.trainable = False\n",
        "\n",
        "model_VGG = keras.models.Sequential([base_model_VGG])\n",
        "model_VGG.add(keras.layers.GlobalAveragePooling2D())\n",
        "model_VGG.add(keras.layers.BatchNormalization())\n",
        "model_VGG.add(keras.layers.Dropout(0.5))\n",
        "model_VGG.add(keras.layers.Dense(100,activation='relu'))\n",
        "model_VGG.add(keras.layers.Dense(n_classes,activation='softmax'))\n",
        "model_VGG.summary()\n",
        "\n",
        "model_VGG.compile(\n",
        "    loss='categorical_crossentropy',\n",
        "    optimizer='adam',\n",
        "    metrics=['accuracy']\n",
        ")"
      ],
      "metadata": {
        "colab": {
          "base_uri": "https://localhost:8080/"
        },
        "id": "tDytAlRhk_v8",
        "outputId": "3f51bfe6-8720-46b8-c7fe-a147564cf38f"
      },
      "execution_count": null,
      "outputs": [
        {
          "output_type": "stream",
          "name": "stdout",
          "text": [
            "Downloading data from https://storage.googleapis.com/tensorflow/keras-applications/vgg16/vgg16_weights_tf_dim_ordering_tf_kernels_notop.h5\n",
            "58889256/58889256 [==============================] - 0s 0us/step\n",
            "Model: \"sequential_1\"\n",
            "_________________________________________________________________\n",
            " Layer (type)                Output Shape              Param #   \n",
            "=================================================================\n",
            " vgg16 (Functional)          (None, 7, 7, 512)         14714688  \n",
            "                                                                 \n",
            " global_average_pooling2d_1   (None, 512)              0         \n",
            " (GlobalAveragePooling2D)                                        \n",
            "                                                                 \n",
            " batch_normalization_1 (Batc  (None, 512)              2048      \n",
            " hNormalization)                                                 \n",
            "                                                                 \n",
            " dropout_1 (Dropout)         (None, 512)               0         \n",
            "                                                                 \n",
            " dense_2 (Dense)             (None, 100)               51300     \n",
            "                                                                 \n",
            " dense_3 (Dense)             (None, 20)                2020      \n",
            "                                                                 \n",
            "=================================================================\n",
            "Total params: 14,770,056\n",
            "Trainable params: 54,344\n",
            "Non-trainable params: 14,715,712\n",
            "_________________________________________________________________\n"
          ]
        }
      ]
    },
    {
      "cell_type": "code",
      "source": [
        "history_VGG = model_VGG.fit(augs_gen.flow(X,keras.utils.to_categorical(Y, n_classes)), epochs = 50, verbose = 1, batch_size = 5,\n",
        "              validation_data  = (keras.applications.efficientnet.preprocess_input(valX),keras.utils.to_categorical(valY, n_classes)),\n",
        "             callbacks = [ES])"
      ],
      "metadata": {
        "colab": {
          "base_uri": "https://localhost:8080/"
        },
        "id": "T_2X8egMl2C-",
        "outputId": "223f1c73-cfba-4a1d-cfff-2bfd87015b7f"
      },
      "execution_count": null,
      "outputs": [
        {
          "output_type": "stream",
          "name": "stdout",
          "text": [
            "Epoch 1/50\n",
            "27/27 [==============================] - 893s 33s/step - loss: 3.4001 - accuracy: 0.1327 - val_loss: 2.7004 - val_accuracy: 0.3033\n",
            "Epoch 2/50\n",
            "27/27 [==============================] - 878s 33s/step - loss: 2.3254 - accuracy: 0.3057 - val_loss: 1.5083 - val_accuracy: 0.5652\n",
            "Epoch 3/50\n",
            "27/27 [==============================] - 874s 33s/step - loss: 1.8732 - accuracy: 0.4739 - val_loss: 1.0705 - val_accuracy: 0.6848\n",
            "Epoch 4/50\n",
            "27/27 [==============================] - 879s 33s/step - loss: 1.5694 - accuracy: 0.5249 - val_loss: 0.8731 - val_accuracy: 0.7382\n",
            "Epoch 5/50\n",
            "27/27 [==============================] - 867s 33s/step - loss: 1.4216 - accuracy: 0.5652 - val_loss: 0.7419 - val_accuracy: 0.7820\n",
            "Epoch 6/50\n",
            "27/27 [==============================] - 867s 33s/step - loss: 1.2272 - accuracy: 0.6351 - val_loss: 0.6429 - val_accuracy: 0.8033\n",
            "Epoch 7/50\n",
            "27/27 [==============================] - 866s 33s/step - loss: 1.1159 - accuracy: 0.6540 - val_loss: 0.5689 - val_accuracy: 0.8341\n",
            "Epoch 8/50\n",
            "27/27 [==============================] - 866s 33s/step - loss: 1.0092 - accuracy: 0.6730 - val_loss: 0.5034 - val_accuracy: 0.8590\n",
            "Epoch 9/50\n",
            "27/27 [==============================] - 867s 33s/step - loss: 0.9347 - accuracy: 0.7097 - val_loss: 0.4656 - val_accuracy: 0.8649\n",
            "Epoch 10/50\n",
            "27/27 [==============================] - 865s 33s/step - loss: 0.9163 - accuracy: 0.7038 - val_loss: 0.4078 - val_accuracy: 0.8815\n",
            "Epoch 11/50\n",
            "27/27 [==============================] - 864s 33s/step - loss: 0.7986 - accuracy: 0.7618 - val_loss: 0.3763 - val_accuracy: 0.8981\n",
            "Epoch 12/50\n",
            "27/27 [==============================] - 867s 33s/step - loss: 0.7961 - accuracy: 0.7559 - val_loss: 0.3489 - val_accuracy: 0.9076\n",
            "Epoch 13/50\n",
            "27/27 [==============================] - 867s 33s/step - loss: 0.7542 - accuracy: 0.7583 - val_loss: 0.3130 - val_accuracy: 0.9076\n",
            "Epoch 14/50\n",
            "27/27 [==============================] - 866s 33s/step - loss: 0.7520 - accuracy: 0.7595 - val_loss: 0.2941 - val_accuracy: 0.9159\n",
            "Epoch 15/50\n",
            "27/27 [==============================] - 868s 33s/step - loss: 0.6773 - accuracy: 0.7737 - val_loss: 0.2657 - val_accuracy: 0.9277\n",
            "Epoch 16/50\n",
            "27/27 [==============================] - 869s 33s/step - loss: 0.7037 - accuracy: 0.7903 - val_loss: 0.2571 - val_accuracy: 0.9301\n",
            "Epoch 17/50\n",
            "27/27 [==============================] - 867s 33s/step - loss: 0.6568 - accuracy: 0.7927 - val_loss: 0.2306 - val_accuracy: 0.9479\n",
            "Epoch 18/50\n",
            "27/27 [==============================] - 868s 33s/step - loss: 0.6106 - accuracy: 0.8069 - val_loss: 0.2182 - val_accuracy: 0.9431\n",
            "Epoch 19/50\n",
            "27/27 [==============================] - 868s 33s/step - loss: 0.6180 - accuracy: 0.7891 - val_loss: 0.2044 - val_accuracy: 0.9526\n",
            "Epoch 20/50\n",
            "27/27 [==============================] - 864s 33s/step - loss: 0.5749 - accuracy: 0.8187 - val_loss: 0.1921 - val_accuracy: 0.9585\n",
            "Epoch 21/50\n",
            "27/27 [==============================] - 870s 33s/step - loss: 0.5780 - accuracy: 0.8140 - val_loss: 0.1942 - val_accuracy: 0.9443\n",
            "Epoch 22/50\n",
            "27/27 [==============================] - 868s 33s/step - loss: 0.5839 - accuracy: 0.8009 - val_loss: 0.1705 - val_accuracy: 0.9609\n",
            "Epoch 23/50\n",
            "27/27 [==============================] - 870s 33s/step - loss: 0.5809 - accuracy: 0.8223 - val_loss: 0.1635 - val_accuracy: 0.9645\n",
            "Epoch 24/50\n",
            "27/27 [==============================] - 866s 33s/step - loss: 0.5131 - accuracy: 0.8294 - val_loss: 0.1520 - val_accuracy: 0.9727\n",
            "Epoch 25/50\n",
            "27/27 [==============================] - 872s 33s/step - loss: 0.5138 - accuracy: 0.8341 - val_loss: 0.1505 - val_accuracy: 0.9727\n",
            "Epoch 26/50\n",
            "27/27 [==============================] - 868s 33s/step - loss: 0.5134 - accuracy: 0.8389 - val_loss: 0.1431 - val_accuracy: 0.9692\n",
            "Epoch 27/50\n",
            "27/27 [==============================] - 867s 33s/step - loss: 0.4567 - accuracy: 0.8649 - val_loss: 0.1344 - val_accuracy: 0.9751\n",
            "Epoch 28/50\n",
            "27/27 [==============================] - ETA: 0s - loss: 0.4938 - accuracy: 0.8258 "
          ]
        }
      ]
    },
    {
      "cell_type": "code",
      "source": [
        "plt.figure(figsize = (10,5))\n",
        "plt.subplot(1,2,1)\n",
        "plt.plot(history_VGG.history['accuracy'],     label = 'Train')\n",
        "plt.plot(history_VGG.history['val_accuracy'], label = 'Validation')\n",
        "plt.title('Accuracy')\n",
        "plt.legend(loc = 'upper left')\n",
        "\n",
        "plt.subplot(1,2,2)\n",
        "plt.plot(history_VGG.history['loss'],label = 'Train')\n",
        "plt.plot(history_VGG.history['val_loss'],label = 'Validation')\n",
        "plt.title('Loss')\n",
        "plt.legend(loc = 'upper left')\n",
        "plt.show()\n",
        "\n",
        "max_val_acc = 100*np.max(history_VGG.history['val_accuracy'])\n",
        "print(\"Best Validation Accuracy: {}%\".format(max_val_acc))"
      ],
      "metadata": {
        "colab": {
          "base_uri": "https://localhost:8080/",
          "height": 354
        },
        "id": "2mwShJdP6Gqh",
        "outputId": "f446aa15-d229-4883-b5b2-fbe3ab44490a"
      },
      "execution_count": null,
      "outputs": [
        {
          "output_type": "display_data",
          "data": {
            "text/plain": [
              "<Figure size 720x360 with 2 Axes>"
            ],
            "image/png": "[encoded data removed]"
          },
          "metadata": {
            "needs_background": "light"
          }
        },
        {
          "output_type": "stream",
          "name": "stdout",
          "text": [
            "Best Validation Accuracy: 97.27456564%\n"
          ]
        }
      ]
    },
    {
      "cell_type": "code",
      "source": [
        "pred = np.argmax(model_VGG.predict(keras.applications.efficientnet.preprocess_input(testX)), axis = -1)\n",
        "y = np.argmax(keras.utils.to_categorical(testY, n_classes), axis = -1)\n",
        "acc = accuracy_score(pred, y)\n",
        "print(\"Accuracy: \",acc)"
      ],
      "metadata": {
        "colab": {
          "base_uri": "https://localhost:8080/"
        },
        "id": "xBToVTQ9PlMZ",
        "outputId": "057403c6-263a-4500-b71f-f147ea74886e"
      },
      "execution_count": null,
      "outputs": [
        {
          "output_type": "stream",
          "name": "stdout",
          "text": [
            "Accuracy:  0.9641249567\n"
          ]
        }
      ]
    },
    {
      "cell_type": "code",
      "source": [
        "precision = precision_score(y, pred, average='micro')\n",
        "recall = recall_score(y, pred, average='micro')\n",
        "f1 = f1_score(y, pred, average='micro')\n",
        "print(\"Precision: \",precision)\n",
        "print(\"Recall: \",recall)\n",
        "print(\"F1 Score\", f1)"
      ],
      "metadata": {
        "colab": {
          "base_uri": "https://localhost:8080/"
        },
        "id": "-CmNjG0QQKPs",
        "outputId": "7848cec0-f0fb-474c-c642-65c8832bcc37"
      },
      "execution_count": null,
      "outputs": [
        {
          "output_type": "stream",
          "name": "stdout",
          "text": [
            "Precision:  0.9641249567\n",
            "Recall:  0.9641549567\n",
            "F1 Score 0.9641244567\n"
          ]
        }
      ]
    }
  ]
}